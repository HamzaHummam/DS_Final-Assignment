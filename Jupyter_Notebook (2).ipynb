{
 "cells": [
  {
   "cell_type": "markdown",
   "metadata": {},
   "source": [
    "<center>\n",
    "    <img src=\"https://cf-courses-data.s3.us.cloud-object-storage.appdomain.cloud/IBMDeveloperSkillsNetwork-DS0105EN-SkillsNetwork/labs/Module2/images/SN_web_lightmode.png\" width=\"300\" alt=\"cognitiveclass.ai logo\">\n",
    "</center>\n"
   ]
  },
  {
   "cell_type": "markdown",
   "metadata": {},
   "source": [
    "#### Add your code below following the instructions given in the course\n"
   ]
  },
  {
   "cell_type": "markdown",
   "metadata": {
    "tags": []
   },
   "source": [
    "# Jupyter Nootbook"
   ]
  },
  {
   "cell_type": "markdown",
   "metadata": {},
   "source": [
    "<h1>Introduction</h1>\n",
    "This is an introduction to python notebook."
   ]
  },
  {
   "cell_type": "markdown",
   "metadata": {},
   "source": [
    "<h3>Following are the list of programming langauges used for data science.</h3>\n",
    "<ul>\n",
    "    <li>R</li>\n",
    "    <li>Python</li>\n",
    "    <li>SQL</li>\n",
    "</ul>"
   ]
  },
  {
   "cell_type": "markdown",
   "metadata": {},
   "source": [
    "<h3>Following are the list of libraries used for data science.</h3>\n",
    "\n",
    "<ul>\n",
    "    <li>Seaborn</li>\n",
    "    <li>Scipy</li>\n",
    "    <li>Tensor Flow</li>\n",
    "    <li>Pytorch</li>\n",
    "    <li>Keras</li>\n",
    "</ul>"
   ]
  },
  {
   "cell_type": "markdown",
   "metadata": {
    "tags": []
   },
   "source": [
    "<h1>Table</h1>\n",
    "<table>\n",
    "<tr>\n",
    "<th>Data Collection</th>\n",
    "<th>Data Cleansing</th>\n",
    "<th>Data Exploraion and Visualization</th>\n",
    "<th>Data Analysis</th>\n",
    "<th>Others</th>\n",
    "</tr>\n",
    "\n",
    "<tr>\n",
    "<td>Haddoo</td>\n",
    "<td>Spark</td>\n",
    "<td>Tabluea</td>\n",
    "<th>Rapidminer</th>\n",
    "<th>Git</th>\n",
    "</tr>\n",
    "\n",
    "<tr>\n",
    "<td>Cassandra</td>\n",
    "<td>Weka</td>\n",
    "<td>Tlib</td>\n",
    "<th>OpenRefine</th>\n",
    "<th>SaS</th>\n",
    "</tr>\n",
    "</table>"
   ]
  },
  {
   "cell_type": "markdown",
   "metadata": {},
   "source": [
    "<h1>Example of Arethimetic Expression</h1>\n",
    "\n",
    "$$\n",
    "a^2+b^2=c^2\n",
    "$$"
   ]
  },
  {
   "cell_type": "code",
   "execution_count": 1,
   "metadata": {
    "tags": []
   },
   "outputs": [
    {
     "name": "stdout",
     "output_type": "stream",
     "text": [
      "5 multiplied by 3 is: 15\n",
      "5 added to 3 is: 8\n"
     ]
    }
   ],
   "source": [
    "# Multiply and Add Numbers\n",
    "\n",
    "# Function to multiply two numbers\n",
    "def multiply_numbers(a, b):\n",
    "    return a * b\n",
    "\n",
    "# Function to add two numbers\n",
    "def add_numbers(a, b):\n",
    "    return a + b\n",
    "\n",
    "# Example usage\n",
    "num1 = 5\n",
    "num2 = 3\n",
    "\n",
    "# Multiply numbers\n",
    "result_multiply = multiply_numbers(num1, num2)\n",
    "print(f\"{num1} multiplied by {num2} is: {result_multiply}\")\n",
    "\n",
    "# Add numbers\n",
    "result_add = add_numbers(num1, num2)\n",
    "print(f\"{num1} added to {num2} is: {result_add}\")\n"
   ]
  },
  {
   "cell_type": "code",
   "execution_count": 2,
   "metadata": {
    "tags": []
   },
   "outputs": [
    {
     "name": "stdout",
     "output_type": "stream",
     "text": [
      "120 minutes is equal to 2.0 hours\n"
     ]
    }
   ],
   "source": [
    "# Convert Minutes to Hours\n",
    "\n",
    "# Function to convert minutes to hours\n",
    "def convert_minutes_to_hours(minutes):\n",
    "    return minutes / 60\n",
    "\n",
    "# Example usage\n",
    "minutes = 120  # Replace this with the number of minutes you want to convert\n",
    "\n",
    "# Convert minutes to hours\n",
    "result_hours = convert_minutes_to_hours(minutes)\n",
    "print(f\"{minutes} minutes is equal to {result_hours} hours\")\n"
   ]
  },
  {
   "cell_type": "markdown",
   "metadata": {
    "tags": []
   },
   "source": [
    "# Project Objectives\n",
    "\n",
    "The objectives of this project are:\n",
    "\n",
    "1. **Multiply and Add Numbers:**\n",
    "   - Implement functions to multiply and add two numbers.\n",
    "   - Demonstrate the usage of these functions with example values.\n",
    "\n",
    "2. **Convert Minutes to Hours:**\n",
    "   - Create a function to convert minutes to hours.\n",
    "   - Showcase the conversion with an example.\n",
    "\n",
    "3. **Additional Objectives (Optional):**\n",
    "   - Explore and implement additional functionalities or improvements.\n",
    "   - Test and ensure the code is robust and handles edge cases gracefully.\n",
    "   - Document the code for clarity and future reference.\n"
   ]
  },
  {
   "cell_type": "markdown",
   "metadata": {},
   "source": [
    "# Author\n",
    "\n",
    "**Author:** Hamza Hummam\n",
    "\n",
    "Feel free to reach out to me for any questions or feedback related to this project.\n"
   ]
  },
  {
   "cell_type": "code",
   "execution_count": null,
   "metadata": {},
   "outputs": [],
   "source": []
  }
 ],
 "metadata": {
  "kernelspec": {
   "display_name": "Python",
   "language": "python",
   "name": "conda-env-python-py"
  },
  "language_info": {
   "codemirror_mode": {
    "name": "ipython",
    "version": 3
   },
   "file_extension": ".py",
   "mimetype": "text/x-python",
   "name": "python",
   "nbconvert_exporter": "python",
   "pygments_lexer": "ipython3",
   "version": "3.7.12"
  }
 },
 "nbformat": 4,
 "nbformat_minor": 4
}
